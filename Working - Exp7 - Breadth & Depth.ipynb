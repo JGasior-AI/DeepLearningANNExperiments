{
 "cells": [
  {
   "cell_type": "code",
   "execution_count": 1,
   "id": "9c55efec-cd56-4d73-bb39-509502d3cebf",
   "metadata": {},
   "outputs": [],
   "source": [
    "import pandas as pd\n",
    "import torch\n",
    "import torch.nn as nn\n",
    "import scipy.stats as stats\n",
    "import torch.optim as optim\n",
    "import matplotlib.pyplot as plt\n",
    "import numpy as np\n",
    "import sys\n",
    "import torch.nn.functional as F\n",
    "\n",
    "# libraries for partitioning and batching the data\n",
    "from sklearn.model_selection import train_test_split\n",
    "from torch.utils.data import DataLoader,TensorDataset"
   ]
  },
  {
   "cell_type": "code",
   "execution_count": 2,
   "id": "448218c3-46f9-42c6-8016-5cc44f9fd1a5",
   "metadata": {},
   "outputs": [
    {
     "name": "stdout",
     "output_type": "stream",
     "text": [
      "Using cpu device\n"
     ]
    }
   ],
   "source": [
    "device = torch.accelerator.current_accelerator().type if torch.accelerator.is_available() else \"cpu\"\n",
    "print(f\"Using {device} device\")"
   ]
  },
  {
   "cell_type": "code",
   "execution_count": 3,
   "id": "a3a909f8-7c74-49da-9353-cb75aea01d78",
   "metadata": {},
   "outputs": [],
   "source": [
    "df = pd.read_csv(\"default of credit card clients.csv\")\n",
    "data = df.drop('Y', axis=1)\n",
    "labels = df[['Y']]"
   ]
  },
  {
   "cell_type": "code",
   "execution_count": 4,
   "id": "0d210905-ed29-4181-b22e-a76be2db4fd1",
   "metadata": {},
   "outputs": [],
   "source": [
    "cols2zscore = data.keys()\n",
    "data[cols2zscore] = data[cols2zscore].apply(stats.zscore)\n",
    "\n",
    "data = torch.tensor(data.values).float()\n",
    "labels = torch.tensor(labels.values).float()\n",
    "\n",
    "#X = data\n",
    "#y = labels"
   ]
  },
  {
   "cell_type": "code",
   "execution_count": 5,
   "id": "499f56fe-63b5-4cff-9e6b-f6a7aa289f93",
   "metadata": {},
   "outputs": [],
   "source": [
    "trainsize = 0.75\n",
    "train_data, test_data, train_labels, test_labels = train_test_split(data, labels, train_size=trainsize)\n",
    "train_dataDataset = TensorDataset(train_data, train_labels)\n",
    "test_dataDataset = TensorDataset(test_data, test_labels)"
   ]
  },
  {
   "cell_type": "code",
   "execution_count": null,
   "id": "80300ec6-246d-4dce-ad2d-c6d17c1442dd",
   "metadata": {},
   "outputs": [],
   "source": []
  },
  {
   "cell_type": "code",
   "execution_count": null,
   "id": "b2bf4fa4-6c25-4236-a4f5-09ca1508c392",
   "metadata": {},
   "outputs": [],
   "source": []
  },
  {
   "cell_type": "code",
   "execution_count": 6,
   "id": "230995cb-ccac-435e-a1eb-925f50c94315",
   "metadata": {},
   "outputs": [],
   "source": [
    "batchsize = 8192\n",
    "# train and test dataloaders\n",
    "test_loader  = DataLoader(test_dataDataset,batch_size=test_dataDataset.tensors[0].shape[0])\n",
    "train_loader = DataLoader(train_dataDataset,batch_size=batchsize, shuffle=True, drop_last=False)"
   ]
  },
  {
   "cell_type": "code",
   "execution_count": 7,
   "id": "ca5c9115-052f-485f-9829-a1c201aa9519",
   "metadata": {},
   "outputs": [
    {
     "name": "stdout",
     "output_type": "stream",
     "text": [
      "3\n"
     ]
    }
   ],
   "source": [
    "print(len(train_loader))\n"
   ]
  },
  {
   "cell_type": "code",
   "execution_count": null,
   "id": "65b73a95-adc8-4d2b-98a4-23e2c291dfa1",
   "metadata": {},
   "outputs": [],
   "source": []
  },
  {
   "cell_type": "code",
   "execution_count": null,
   "id": "ad1cd75f-f668-487e-b6ed-e8fa72a76096",
   "metadata": {},
   "outputs": [],
   "source": []
  },
  {
   "cell_type": "code",
   "execution_count": 8,
   "id": "5d224ad4-901b-4a45-96bf-3779eb3c7b07",
   "metadata": {},
   "outputs": [],
   "source": [
    "class ANN(nn.Module):\n",
    "    def __init__(self, nUnits, nLayers):\n",
    "        super().__init__()\n",
    "\n",
    "        # Create a dictionary to store the layers.\n",
    "        self.layers = nn.ModuleDict()\n",
    "        self.nLayers = nLayers\n",
    "\n",
    "        # Input layer.\n",
    "        self.layers['input'] = nn.Linear(23, nUnits)\n",
    "\n",
    "        # Hidden layers.\n",
    "        for i in range(nLayers):\n",
    "            self.layers[f'hidden{i}'] = nn.Linear(nUnits, nUnits)\n",
    "\n",
    "        # Output layer.\n",
    "        self.layers['output'] = nn.Linear(nUnits, 1)\n",
    "\n",
    "    # Forward pass through the network.\n",
    "    def forward(self, x):\n",
    "        x = F.relu(self.layers['input'](x))  # Input layer (with ReLU activation).\n",
    "\n",
    "        # Hidden layers with ReLU activation.\n",
    "        for i in range(self.nLayers):\n",
    "            x = F.relu(self.layers[f'hidden{i}'](x))\n",
    "\n",
    "        x = self.layers['output'](x)  # Output layer.\n",
    "        return x\n"
   ]
  },
  {
   "cell_type": "code",
   "execution_count": null,
   "id": "c7ccbbc3-bdf4-4163-b78e-fd2042c7c991",
   "metadata": {},
   "outputs": [],
   "source": []
  },
  {
   "cell_type": "code",
   "execution_count": 9,
   "id": "ed72345c-e5c8-4a57-8684-b74e54172338",
   "metadata": {},
   "outputs": [],
   "source": [
    "# Define a global parameter 'numepochs' with a value of 500, representing the number of training epochs.\n",
    "#numepochs = 1000\n",
    "\n",
    "# Define a function 'trainTheModel' to train the neural network.\n",
    "def trainTheModel(theModel):\n",
    "  # loss function\n",
    "  lossfun = nn.BCEWithLogitsLoss() # but better to use BCEWithLogitsLoss\n",
    "\n",
    "  # optimizer\n",
    "  optimizer = torch.optim.SGD(theModel.parameters(),lr=0.1)\n",
    "\n",
    "  # Initialize lists to store training and test accuracies, as well as losses during training.\n",
    "  trainAcc = []\n",
    "  testAcc  = []\n",
    "  losses   = []\n",
    "\n",
    "  # Loop over epochs (training iterations).\n",
    "  for epochi in range(numepochs):\n",
    "    \n",
    "    #if epochi % 100 == 0:\n",
    "    #    print(epochi)\n",
    "    # Activate training mode for the neural network.\n",
    "    theModel.train()\n",
    "\n",
    "    # Initialize lists to store accuracy and loss for each batch during training.\n",
    "    batchAcc  = []\n",
    "    batchLoss = []\n",
    "\n",
    "    # Loop over training data batches.\n",
    "    for X,y in train_loader:\n",
    "\n",
    "      # Perform a forward pass through the neural network.\n",
    "      yHat = theModel(X)\n",
    "      #print(yHat)\n",
    "      # Calculate the loss using the specified loss function.\n",
    "      loss = lossfun(yHat,y)\n",
    "      \n",
    "      # Clear previous gradient calculations.\n",
    "      optimizer.zero_grad()\n",
    "      \n",
    "      # Perform backpropagation to compute gradients.\n",
    "      loss.backward()\n",
    "      \n",
    "      # Update the model's parameters using the optimizer.\n",
    "      optimizer.step()\n",
    "\n",
    "      # Compute training accuracy for this batch and append to 'batchAcc'.\n",
    "      #batchAcc.append( 100*torch.mean((torch.argmax(yHat,axis=1) == y).float()).item() )\n",
    "      batchAcc.append( 100*torch.mean(((yHat.round()) == y).float()) )\n",
    "      \n",
    "      # Append the loss value for this batch to 'batchLoss'.\n",
    "      batchLoss.append( loss.item() )\n",
    "    # End of batch loop...\n",
    "\n",
    "    # Calculate the average training accuracy for this epoch and append to 'trainAcc'.\n",
    "    trainAcc.append( np.mean(batchAcc) )\n",
    "\n",
    "    # Append the average loss for this epoch to 'losses'.\n",
    "    losses.append( np.mean(batchLoss) )\n",
    "\n",
    "    # Test accuracy on the validation set.\n",
    "    \n",
    "    # Extract X,y from the test dataloader.\n",
    "    X,y = next(iter(test_loader))\n",
    "\n",
    "    # Activate evaluation mode (no gradient computation) for the neural network.\n",
    "    theModel.eval()\n",
    "\n",
    "    # Perform forward pass for the test data.\n",
    "    with torch.no_grad():\n",
    "      #predictions = torch.argmax( ANN(X),axis=1 )\n",
    "      predictions = theModel(X)\n",
    "      #print(predictions)\n",
    "    \n",
    "    # Compute accuracy on the test data and append to 'testAcc'.\n",
    "    #testAcc.append( 100*torch.mean((predictions == y).float()).item() )\n",
    "    testAcc.append( 100*torch.mean(((predictions.round()) == y).float()) )\n",
    "    #rint(predictions)\n",
    "\n",
    "    nParams = sum(p.numel() for p in theModel.parameters() if p.requires_grad)\n",
    "    \n",
    "  \n",
    "  # Function output: training accuracies, test accuracies, and losses over epochs.\n",
    "  return trainAcc, testAcc, losses, nParams"
   ]
  },
  {
   "cell_type": "code",
   "execution_count": 10,
   "id": "4162d456-e505-410b-ae6e-344c751848eb",
   "metadata": {},
   "outputs": [],
   "source": [
    "# Define the model parameters: number of layers and number of units per layer.\n",
    "numlayers = range(1, 4)  # Number of hidden layers.\n",
    "numunits = np.arange(4, 101, 20)  # Units per hidden layer.\n"
   ]
  },
  {
   "cell_type": "code",
   "execution_count": 19,
   "id": "ba0069da-075d-44d7-929d-6a47275ac34f",
   "metadata": {},
   "outputs": [
    {
     "data": {
      "text/plain": [
       "3"
      ]
     },
     "execution_count": 19,
     "metadata": {},
     "output_type": "execute_result"
    }
   ],
   "source": [
    "len(numlayers)"
   ]
  },
  {
   "cell_type": "code",
   "execution_count": 20,
   "id": "53a154f9-5d67-4374-bf55-ad804f6d997f",
   "metadata": {},
   "outputs": [
    {
     "data": {
      "text/plain": [
       "range(1, 4)"
      ]
     },
     "execution_count": 20,
     "metadata": {},
     "output_type": "execute_result"
    }
   ],
   "source": [
    "numlayers"
   ]
  },
  {
   "cell_type": "code",
   "execution_count": 12,
   "id": "baace8e2-bc56-4d9c-8dc6-6d4a24b418a0",
   "metadata": {},
   "outputs": [
    {
     "data": {
      "text/plain": [
       "5"
      ]
     },
     "execution_count": 12,
     "metadata": {},
     "output_type": "execute_result"
    }
   ],
   "source": [
    "len(numunits)"
   ]
  },
  {
   "cell_type": "code",
   "execution_count": 13,
   "id": "e7f83a7d-3ba7-42a7-b3a4-e4ed1dfddb34",
   "metadata": {},
   "outputs": [
    {
     "data": {
      "text/plain": [
       "array([ 4, 24, 44, 64, 84])"
      ]
     },
     "execution_count": 13,
     "metadata": {},
     "output_type": "execute_result"
    }
   ],
   "source": [
    "numunits"
   ]
  },
  {
   "cell_type": "code",
   "execution_count": 14,
   "id": "ce33f680-bc97-48fa-a6a7-13e85b0ca924",
   "metadata": {},
   "outputs": [
    {
     "name": "stdout",
     "output_type": "stream",
     "text": [
      "Unit0 layer 0\n",
      "Unit0 layer 1\n",
      "Unit0 layer 2\n",
      "Unit1 layer 0\n",
      "Unit1 layer 1\n",
      "Unit1 layer 2\n",
      "Unit2 layer 0\n",
      "Unit2 layer 1\n",
      "Unit2 layer 2\n",
      "Unit3 layer 0\n",
      "Unit3 layer 1\n",
      "Unit3 layer 2\n",
      "Unit4 layer 0\n",
      "Unit4 layer 1\n",
      "Unit4 layer 2\n"
     ]
    }
   ],
   "source": [
    "\n",
    "\n",
    "# Initialize matrices to store accuracies and total parameters.\n",
    "train_accuracies = np.zeros((len(numunits), len(numlayers)))\n",
    "test_accuracies = np.zeros((len(numunits), len(numlayers)))\n",
    "totalparams = np.zeros((len(numunits), len(numlayers)))\n",
    "losses = np.zeros((len(numunits), len(numlayers)))\n",
    "\n",
    "# Number of training epochs.\n",
    "numepochs = 300\n",
    "\n",
    "# Start the experiment by varying the number of units and layers.\n",
    "for unitidx in range(len(numunits)):\n",
    "    for layeridx in range(len(numlayers)):\n",
    "        print('Unit' + str(unitidx) + \" layer \" + str(layeridx))\n",
    "        # Create a fresh model instance.\n",
    "\n",
    "        net = ANN(numunits[unitidx], numlayers[layeridx])\n",
    "\n",
    "        # Train the model and store the results.\n",
    "        trainAcc, testAcc, losses, nParams = trainTheModel(net)\n",
    "        #acc, nParams = trainTheModel(net)\n",
    "        #accuracies[unitidx, layeridx] = acc\n",
    "\n",
    "        train_accuracies[unitidx,layeridx] = np.mean(trainAcc)\n",
    "        test_accuracies[unitidx,layeridx] = np.mean(testAcc)\n",
    "        #losses[unitidx,layeridx] = losses\n",
    "\n",
    "        # Store the total number of parameters in the model.\n",
    "        totalparams[unitidx, layeridx] = nParams"
   ]
  },
  {
   "cell_type": "code",
   "execution_count": 16,
   "id": "beb22c41-01bb-4113-bc45-fefc8b50921a",
   "metadata": {},
   "outputs": [
    {
     "data": {
      "image/png": "[encoded data removed]",
      "text/plain": [
       "<Figure size 1200x600 with 1 Axes>"
      ]
     },
     "metadata": {},
     "output_type": "display_data"
    }
   ],
   "source": [
    "# Show accuracy as a function of the number of hidden units for different layers.\n",
    "fig, ax = plt.subplots(1, figsize=(12, 6))\n",
    "\n",
    "ax.plot(numunits, train_accuracies, 'o-', markerfacecolor='w', markersize=9)\n",
    "ax.plot(numunits[[0, -1]], [33, 33], '--', color=[0.8, 0.8, 0.8])\n",
    "ax.plot(numunits[[0, -1]], [67, 67], '--', color=[0.8, 0.8, 0.8])\n",
    "ax.legend(numlayers)\n",
    "ax.set_ylabel('Train Accuracy')\n",
    "ax.set_xlabel('Number of Hidden Units')\n",
    "ax.set_title('Accuracy')\n",
    "plt.show()\n"
   ]
  },
  {
   "cell_type": "code",
   "execution_count": 17,
   "id": "4965e2c5-6432-4fbd-8f5c-b232838842da",
   "metadata": {},
   "outputs": [
    {
     "data": {
      "image/png": "[encoded data removed]",
      "text/plain": [
       "<Figure size 1200x600 with 1 Axes>"
      ]
     },
     "metadata": {},
     "output_type": "display_data"
    }
   ],
   "source": [
    "# Show accuracy as a function of the number of hidden units for different layers.\n",
    "fig, ax = plt.subplots(1, figsize=(12, 6))\n",
    "\n",
    "ax.plot(numunits, test_accuracies)\n",
    "ax.plot(numunits[[0, -1]], [33, 33], '--', color=[0.8, 0.8, 0.8])\n",
    "ax.plot(numunits[[0, -1]], [67, 67], '--', color=[0.8, 0.8, 0.8])\n",
    "ax.legend(numlayers)\n",
    "ax.set_ylabel('Test Accuracy')\n",
    "ax.set_xlabel('Number of Hidden Units')\n",
    "ax.set_title('Accuracy')\n",
    "plt.show()"
   ]
  },
  {
   "cell_type": "code",
   "execution_count": 18,
   "id": "996b3980-25f5-4ff5-8f0e-a272c9c531e1",
   "metadata": {},
   "outputs": [
    {
     "ename": "NameError",
     "evalue": "name 'accuracies' is not defined",
     "output_type": "error",
     "traceback": [
      "\u001b[31m---------------------------------------------------------------------------\u001b[39m",
      "\u001b[31mNameError\u001b[39m                                 Traceback (most recent call last)",
      "\u001b[36mCell\u001b[39m\u001b[36m \u001b[39m\u001b[32mIn[18]\u001b[39m\u001b[32m, line 3\u001b[39m\n\u001b[32m      1\u001b[39m \u001b[38;5;66;03m# Analyze the correlation between the number of parameters and accuracy.\u001b[39;00m\n\u001b[32m      2\u001b[39m x = totalparams.flatten()\n\u001b[32m----> \u001b[39m\u001b[32m3\u001b[39m y = \u001b[43maccuracies\u001b[49m.flatten()\n\u001b[32m      5\u001b[39m \u001b[38;5;66;03m# Calculate the correlation coefficient.\u001b[39;00m\n\u001b[32m      6\u001b[39m r = np.corrcoef(x, y)[\u001b[32m0\u001b[39m, \u001b[32m1\u001b[39m]\n",
      "\u001b[31mNameError\u001b[39m: name 'accuracies' is not defined"
     ]
    }
   ],
   "source": [
    "# Analyze the correlation between the number of parameters and accuracy.\n",
    "x = totalparams.flatten()\n",
    "y = accuracies.flatten()\n",
    "\n",
    "# Calculate the correlation coefficient.\n",
    "r = np.corrcoef(x, y)[0, 1]\n",
    "\n",
    "# Scatter plot of parameters vs. accuracy.\n",
    "plt.plot(x, y, 'o')\n",
    "plt.xlabel('Number of Parameters')\n",
    "plt.ylabel('Accuracy')\n",
    "plt.title('Correlation: r=' + str(np.round(r, 3)))\n",
    "plt.show()"
   ]
  },
  {
   "cell_type": "code",
   "execution_count": null,
   "id": "7cacbd4a-8f1a-43c7-b1d1-dbaa5a3c9f98",
   "metadata": {},
   "outputs": [],
   "source": []
  }
 ],
 "metadata": {
  "kernelspec": {
   "display_name": "Python 3 (ipykernel)",
   "language": "python",
   "name": "python3"
  },
  "language_info": {
   "codemirror_mode": {
    "name": "ipython",
    "version": 3
   },
   "file_extension": ".py",
   "mimetype": "text/x-python",
   "name": "python",
   "nbconvert_exporter": "python",
   "pygments_lexer": "ipython3",
   "version": "3.13.2"
  }
 },
 "nbformat": 4,
 "nbformat_minor": 5
}
