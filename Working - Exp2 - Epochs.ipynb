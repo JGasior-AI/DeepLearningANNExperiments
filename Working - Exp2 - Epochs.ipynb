{
 "cells": [
  {
   "cell_type": "code",
   "execution_count": 1,
   "id": "9c55efec-cd56-4d73-bb39-509502d3cebf",
   "metadata": {},
   "outputs": [],
   "source": [
    "import pandas as pd\n",
    "import torch\n",
    "import torch.nn as nn\n",
    "import scipy.stats as stats\n",
    "from torch.utils.data import DataLoader\n",
    "import torch.optim as optim\n",
    "import matplotlib.pyplot as plt\n",
    "import numpy as np\n",
    "import sys"
   ]
  },
  {
   "cell_type": "code",
   "execution_count": 2,
   "id": "448218c3-46f9-42c6-8016-5cc44f9fd1a5",
   "metadata": {},
   "outputs": [
    {
     "name": "stdout",
     "output_type": "stream",
     "text": [
      "Using cpu device\n"
     ]
    }
   ],
   "source": [
    "device = torch.accelerator.current_accelerator().type if torch.accelerator.is_available() else \"cpu\"\n",
    "print(f\"Using {device} device\")"
   ]
  },
  {
   "cell_type": "code",
   "execution_count": 3,
   "id": "a3a909f8-7c74-49da-9353-cb75aea01d78",
   "metadata": {},
   "outputs": [],
   "source": [
    "df = pd.read_csv(\"default of credit card clients.csv\")\n",
    "data = df.drop('Y', axis=1)\n",
    "labels = df[['Y']]"
   ]
  },
  {
   "cell_type": "code",
   "execution_count": 4,
   "id": "0d210905-ed29-4181-b22e-a76be2db4fd1",
   "metadata": {},
   "outputs": [],
   "source": [
    "cols2zscore = data.keys()\n",
    "data[cols2zscore] = data[cols2zscore].apply(stats.zscore)\n",
    "\n",
    "data = torch.tensor(data.values).float()\n",
    "labels = torch.tensor(labels.values).float()\n",
    "\n",
    "X = data\n",
    "y = labels"
   ]
  },
  {
   "cell_type": "code",
   "execution_count": 5,
   "id": "5d224ad4-901b-4a45-96bf-3779eb3c7b07",
   "metadata": {},
   "outputs": [],
   "source": [
    "def createANNmodel(learningRate):\n",
    "\n",
    "  # model architecture\n",
    "  ANNclassify = nn.Sequential(\n",
    "      nn.Linear(23,64),  # input layer\n",
    "      nn.ReLU(),        # activation unit\n",
    "      nn.Linear(64,16),  # hidden layer\n",
    "      nn.ReLU(),        # activation unit\n",
    "      nn.Linear(16,1),   # output unit\n",
    "      nn.Sigmoid(),     # final activation unit\n",
    "        )\n",
    "\n",
    "  # loss function\n",
    "  lossfun = nn.BCELoss() # but better to use BCEWithLogitsLoss\n",
    "\n",
    "  # optimizer\n",
    "  optimizer = torch.optim.SGD(ANNclassify.parameters(),lr=learningRate)\n",
    "\n",
    "  # model output\n",
    "  return ANNclassify,lossfun,optimizer"
   ]
  },
  {
   "cell_type": "code",
   "execution_count": 10,
   "id": "15d4e0ba-fb6e-4e2a-adb6-2510da62530c",
   "metadata": {},
   "outputs": [],
   "source": [
    "# a function that trains the model\n",
    "\n",
    "# a fixed parameter\n",
    "numepochs = 20000\n",
    "\n",
    "def trainTheModel(ANNmodel):\n",
    "\n",
    "  # initialize losses\n",
    "  losses = torch.zeros(numepochs)\n",
    "\n",
    "  # loop over epochs\n",
    "  for epochi in range(numepochs):\n",
    "\n",
    "    # forward pass\n",
    "    yHat = ANNmodel(data)\n",
    "\n",
    "    # compute loss\n",
    "    loss = lossfun(yHat,labels)\n",
    "    losses[epochi] = loss\n",
    "\n",
    "    # backprop\n",
    "    optimizer.zero_grad()\n",
    "    loss.backward()\n",
    "    optimizer.step()\n",
    "  \n",
    "  \n",
    "  \n",
    "  # final forward pass\n",
    "  predictions = ANNmodel(data)\n",
    "    \n",
    "  # compute the predictions and report accuracy\n",
    "  # NOTE: Wasn't this \">0\" previously?!?!\n",
    "  totalacc = 100*torch.mean(((predictions.round()) == labels).float())\n",
    "  \n",
    "  return losses,predictions,totalacc"
   ]
  },
  {
   "cell_type": "code",
   "execution_count": 11,
   "id": "1c7c6f76-f154-4ca7-a137-985d1b39430a",
   "metadata": {},
   "outputs": [
    {
     "name": "stdout",
     "output_type": "stream",
     "text": [
      "Final accuracy: 83.2467%\n"
     ]
    }
   ],
   "source": [
    "# create everything\n",
    "ANNclassify,lossfun,optimizer = createANNmodel(.1)\n",
    "\n",
    "# run it\n",
    "losses,predictions,totalacc = trainTheModel(ANNclassify)\n",
    "\n",
    "# report accuracy\n",
    "print('Final accuracy: %g%%' %totalacc)"
   ]
  },
  {
   "cell_type": "code",
   "execution_count": 12,
   "id": "17abd83b-d4aa-478a-b004-c8f5db040b05",
   "metadata": {},
   "outputs": [
    {
     "data": {
      "image/png": "[encoded data removed]",
      "text/plain": [
       "<Figure size 640x480 with 1 Axes>"
      ]
     },
     "metadata": {},
     "output_type": "display_data"
    }
   ],
   "source": [
    "# show the losses\n",
    "plt.plot(losses.detach(),'o',markerfacecolor='w',linewidth=.1)\n",
    "plt.xlabel('Epoch'), plt.ylabel('Loss')\n",
    "plt.show()"
   ]
  },
  {
   "cell_type": "code",
   "execution_count": 13,
   "id": "5fef58b2-6d3d-4437-b110-fa8bf8daa1f4",
   "metadata": {},
   "outputs": [
    {
     "name": "stdout",
     "output_type": "stream",
     "text": [
      "----------------------------------------------------------------\n",
      "        Layer (type)               Output Shape         Param #\n",
      "================================================================\n",
      "            Linear-1                [-1, 1, 64]           1,536\n",
      "              ReLU-2                [-1, 1, 64]               0\n",
      "            Linear-3                [-1, 1, 16]           1,040\n",
      "              ReLU-4                [-1, 1, 16]               0\n",
      "            Linear-5                 [-1, 1, 1]              17\n",
      "           Sigmoid-6                 [-1, 1, 1]               0\n",
      "================================================================\n",
      "Total params: 2,593\n",
      "Trainable params: 2,593\n",
      "Non-trainable params: 0\n",
      "----------------------------------------------------------------\n",
      "Input size (MB): 0.00\n",
      "Forward/backward pass size (MB): 0.00\n",
      "Params size (MB): 0.01\n",
      "Estimated Total Size (MB): 0.01\n",
      "----------------------------------------------------------------\n"
     ]
    }
   ],
   "source": [
    "from torchsummary import summary\n",
    "summary(ANNclassify, (1,23))"
   ]
  },
  {
   "cell_type": "code",
   "execution_count": null,
   "id": "0b6976d6-580f-4a51-b0b4-6e33750ee06e",
   "metadata": {},
   "outputs": [],
   "source": []
  },
  {
   "cell_type": "code",
   "execution_count": null,
   "id": "beb22c41-01bb-4113-bc45-fefc8b50921a",
   "metadata": {},
   "outputs": [],
   "source": []
  }
 ],
 "metadata": {
  "kernelspec": {
   "display_name": "Python 3 (ipykernel)",
   "language": "python",
   "name": "python3"
  },
  "language_info": {
   "codemirror_mode": {
    "name": "ipython",
    "version": 3
   },
   "file_extension": ".py",
   "mimetype": "text/x-python",
   "name": "python",
   "nbconvert_exporter": "python",
   "pygments_lexer": "ipython3",
   "version": "3.13.2"
  }
 },
 "nbformat": 4,
 "nbformat_minor": 5
}
