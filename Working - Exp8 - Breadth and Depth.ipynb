{
 "cells": [
  {
   "cell_type": "code",
   "execution_count": 1,
   "id": "9c55efec-cd56-4d73-bb39-509502d3cebf",
   "metadata": {},
   "outputs": [],
   "source": [
    "import pandas as pd\n",
    "import torch\n",
    "import torch.nn as nn\n",
    "import scipy.stats as stats\n",
    "import torch.optim as optim\n",
    "import matplotlib.pyplot as plt\n",
    "import numpy as np\n",
    "import sys\n",
    "\n",
    "# libraries for partitioning and batching the data\n",
    "from sklearn.model_selection import train_test_split\n",
    "from torch.utils.data import DataLoader,TensorDataset"
   ]
  },
  {
   "cell_type": "code",
   "execution_count": 2,
   "id": "448218c3-46f9-42c6-8016-5cc44f9fd1a5",
   "metadata": {},
   "outputs": [
    {
     "name": "stdout",
     "output_type": "stream",
     "text": [
      "Using cpu device\n"
     ]
    }
   ],
   "source": [
    "device = torch.accelerator.current_accelerator().type if torch.accelerator.is_available() else \"cpu\"\n",
    "print(f\"Using {device} device\")"
   ]
  },
  {
   "cell_type": "code",
   "execution_count": 3,
   "id": "a3a909f8-7c74-49da-9353-cb75aea01d78",
   "metadata": {},
   "outputs": [],
   "source": [
    "df = pd.read_csv(\"default of credit card clients.csv\")\n",
    "data = df.drop('Y', axis=1)\n",
    "labels = df[['Y']]"
   ]
  },
  {
   "cell_type": "code",
   "execution_count": 4,
   "id": "0d210905-ed29-4181-b22e-a76be2db4fd1",
   "metadata": {},
   "outputs": [],
   "source": [
    "cols2zscore = data.keys()\n",
    "data[cols2zscore] = data[cols2zscore].apply(stats.zscore)\n",
    "\n",
    "data = torch.tensor(data.values).float()\n",
    "labels = torch.tensor(labels.values).float()\n",
    "\n",
    "#X = data\n",
    "#y = labels"
   ]
  },
  {
   "cell_type": "code",
   "execution_count": 5,
   "id": "499f56fe-63b5-4cff-9e6b-f6a7aa289f93",
   "metadata": {},
   "outputs": [],
   "source": [
    "trainsize = 0.75\n",
    "train_data, test_data, train_labels, test_labels = train_test_split(data, labels, train_size=trainsize)\n",
    "train_dataDataset = TensorDataset(train_data, train_labels)\n",
    "test_dataDataset = TensorDataset(test_data, test_labels)"
   ]
  },
  {
   "cell_type": "code",
   "execution_count": null,
   "id": "80300ec6-246d-4dce-ad2d-c6d17c1442dd",
   "metadata": {},
   "outputs": [],
   "source": []
  },
  {
   "cell_type": "code",
   "execution_count": null,
   "id": "b2bf4fa4-6c25-4236-a4f5-09ca1508c392",
   "metadata": {},
   "outputs": [],
   "source": []
  },
  {
   "cell_type": "code",
   "execution_count": 6,
   "id": "230995cb-ccac-435e-a1eb-925f50c94315",
   "metadata": {},
   "outputs": [],
   "source": [
    "batchsize = 8192\n",
    "# train and test dataloaders\n",
    "test_loader  = DataLoader(test_dataDataset,batch_size=test_dataDataset.tensors[0].shape[0])\n",
    "train_loader = DataLoader(train_dataDataset,batch_size=batchsize, shuffle=True, drop_last=False)"
   ]
  },
  {
   "cell_type": "code",
   "execution_count": 7,
   "id": "ca5c9115-052f-485f-9829-a1c201aa9519",
   "metadata": {},
   "outputs": [
    {
     "name": "stdout",
     "output_type": "stream",
     "text": [
      "2\n"
     ]
    }
   ],
   "source": [
    "print(len(train_loader))\n"
   ]
  },
  {
   "cell_type": "code",
   "execution_count": null,
   "id": "65b73a95-adc8-4d2b-98a4-23e2c291dfa1",
   "metadata": {},
   "outputs": [],
   "source": []
  },
  {
   "cell_type": "code",
   "execution_count": 8,
   "id": "ad1cd75f-f668-487e-b6ed-e8fa72a76096",
   "metadata": {},
   "outputs": [],
   "source": [
    "nUnits = 128"
   ]
  },
  {
   "cell_type": "code",
   "execution_count": 9,
   "id": "5d224ad4-901b-4a45-96bf-3779eb3c7b07",
   "metadata": {},
   "outputs": [],
   "source": [
    "def createANNmodel():\n",
    "\n",
    "  # model architecture\n",
    "  ANN = nn.Sequential(\n",
    "      nn.Linear(23,nUnits),  # input layer\n",
    "      nn.ReLU(),        # activation unit\n",
    "      nn.Linear(nUnits, nUnits),  # hidden layer\n",
    "      nn.ReLU(),        # activation unit\n",
    "      nn.Linear(nUnits, nUnits),  # hidden layer\n",
    "      nn.ReLU(),        # activation unit\n",
    "      nn.Linear(nUnits, nUnits),  # hidden layer\n",
    "      nn.ReLU(),        # activation unit\n",
    "      nn.Linear(nUnits,1),   # output unit\n",
    "      nn.Sigmoid(),     # final activation unit\n",
    "        )\n",
    "\n",
    "  # loss function\n",
    "  lossfun = nn.BCELoss() # but better to use BCEWithLogitsLoss\n",
    "\n",
    "  # optimizer\n",
    "  optimizer = torch.optim.SGD(ANN.parameters(),lr=0.1)\n",
    "\n",
    "  # model output\n",
    "  return ANN,lossfun,optimizer"
   ]
  },
  {
   "cell_type": "code",
   "execution_count": 10,
   "id": "ed72345c-e5c8-4a57-8684-b74e54172338",
   "metadata": {},
   "outputs": [],
   "source": [
    "# Define a global parameter 'numepochs' with a value of 500, representing the number of training epochs.\n",
    "numepochs = 300\n",
    "\n",
    "# Define a function 'trainTheModel' to train the neural network.\n",
    "def trainTheModel():\n",
    "\n",
    "  # Initialize lists to store training and test accuracies, as well as losses during training.\n",
    "  trainAcc = []\n",
    "  testAcc  = []\n",
    "  losses   = []\n",
    "\n",
    "  # Loop over epochs (training iterations).\n",
    "  for epochi in range(numepochs):\n",
    "    \n",
    "    if epochi % 100 == 0:\n",
    "        print(epochi)\n",
    "    # Activate training mode for the neural network.\n",
    "    ANN.train()\n",
    "\n",
    "    # Initialize lists to store accuracy and loss for each batch during training.\n",
    "    batchAcc  = []\n",
    "    batchLoss = []\n",
    "\n",
    "    # Loop over training data batches.\n",
    "    for X,y in train_loader:\n",
    "\n",
    "      # Perform a forward pass through the neural network.\n",
    "      yHat = ANN(X)\n",
    "      #print(yHat)\n",
    "      # Calculate the loss using the specified loss function.\n",
    "      loss = lossfun(yHat,y)\n",
    "      \n",
    "      # Clear previous gradient calculations.\n",
    "      optimizer.zero_grad()\n",
    "      \n",
    "      # Perform backpropagation to compute gradients.\n",
    "      loss.backward()\n",
    "      \n",
    "      # Update the model's parameters using the optimizer.\n",
    "      optimizer.step()\n",
    "\n",
    "      # Compute training accuracy for this batch and append to 'batchAcc'.\n",
    "      #batchAcc.append( 100*torch.mean((torch.argmax(yHat,axis=1) == y).float()).item() )\n",
    "      batchAcc.append( 100*torch.mean(((yHat.round()) == y).float()) )\n",
    "      \n",
    "      # Append the loss value for this batch to 'batchLoss'.\n",
    "      batchLoss.append( loss.item() )\n",
    "    # End of batch loop...\n",
    "\n",
    "    # Calculate the average training accuracy for this epoch and append to 'trainAcc'.\n",
    "    trainAcc.append( np.mean(batchAcc) )\n",
    "\n",
    "    # Append the average loss for this epoch to 'losses'.\n",
    "    losses.append( np.mean(batchLoss) )\n",
    "\n",
    "    # Test accuracy on the validation set.\n",
    "    \n",
    "    # Extract X,y from the test dataloader.\n",
    "    X,y = next(iter(test_loader))\n",
    "\n",
    "    # Activate evaluation mode (no gradient computation) for the neural network.\n",
    "    ANN.eval()\n",
    "\n",
    "    # Perform forward pass for the test data.\n",
    "    with torch.no_grad():\n",
    "      #predictions = torch.argmax( ANN(X),axis=1 )\n",
    "      predictions = ANN(X)\n",
    "      #print(predictions)\n",
    "    \n",
    "    # Compute accuracy on the test data and append to 'testAcc'.\n",
    "    #testAcc.append( 100*torch.mean((predictions == y).float()).item() )\n",
    "    testAcc.append( 100*torch.mean(((predictions.round()) == y).float()) )\n",
    "    #rint(predictions)\n",
    "    \n",
    "  \n",
    "  # Function output: training accuracies, test accuracies, and losses over epochs.\n",
    "  return trainAcc, testAcc, losses"
   ]
  },
  {
   "cell_type": "code",
   "execution_count": 11,
   "id": "1ea3367f-139d-437a-821a-8e8274f075aa",
   "metadata": {},
   "outputs": [
    {
     "name": "stdout",
     "output_type": "stream",
     "text": [
      "0\n",
      "100\n",
      "200\n"
     ]
    }
   ],
   "source": [
    "# Create a new model, loss function, and optimizer.\n",
    "ANN, lossfun, optimizer = createANNmodel()\n",
    "# Train the model using the current batch size.\n",
    "trainAcc, testAcc, losses = trainTheModel()\n"
   ]
  },
  {
   "cell_type": "code",
   "execution_count": 12,
   "id": "5fef58b2-6d3d-4437-b110-fa8bf8daa1f4",
   "metadata": {},
   "outputs": [
    {
     "name": "stdout",
     "output_type": "stream",
     "text": [
      "----------------------------------------------------------------\n",
      "        Layer (type)               Output Shape         Param #\n",
      "================================================================\n",
      "            Linear-1               [-1, 1, 256]           6,144\n",
      "              ReLU-2               [-1, 1, 256]               0\n",
      "            Linear-3               [-1, 1, 256]          65,792\n",
      "              ReLU-4               [-1, 1, 256]               0\n",
      "            Linear-5               [-1, 1, 256]          65,792\n",
      "              ReLU-6               [-1, 1, 256]               0\n",
      "            Linear-7               [-1, 1, 256]          65,792\n",
      "              ReLU-8               [-1, 1, 256]               0\n",
      "            Linear-9               [-1, 1, 256]          65,792\n",
      "             ReLU-10               [-1, 1, 256]               0\n",
      "           Linear-11               [-1, 1, 256]          65,792\n",
      "             ReLU-12               [-1, 1, 256]               0\n",
      "           Linear-13                 [-1, 1, 1]             257\n",
      "          Sigmoid-14                 [-1, 1, 1]               0\n",
      "================================================================\n",
      "Total params: 335,361\n",
      "Trainable params: 335,361\n",
      "Non-trainable params: 0\n",
      "----------------------------------------------------------------\n",
      "Input size (MB): 0.00\n",
      "Forward/backward pass size (MB): 0.02\n",
      "Params size (MB): 1.28\n",
      "Estimated Total Size (MB): 1.30\n",
      "----------------------------------------------------------------\n"
     ]
    }
   ],
   "source": [
    "from torchsummary import summary\n",
    "summary(ANN, (1,23))"
   ]
  },
  {
   "cell_type": "code",
   "execution_count": 13,
   "id": "0b6976d6-580f-4a51-b0b4-6e33750ee06e",
   "metadata": {},
   "outputs": [
    {
     "data": {
      "image/png": "[encoded data removed]",
      "text/plain": [
       "<Figure size 1500x500 with 2 Axes>"
      ]
     },
     "metadata": {},
     "output_type": "display_data"
    }
   ],
   "source": [
    "\n",
    "\n",
    "# plot the results\n",
    "fig,ax = plt.subplots(1,2,figsize=(15,5))\n",
    "\n",
    "\n",
    "ax[0].plot(losses,'k^-')\n",
    "ax[0].set_ylabel('Loss')\n",
    "ax[0].set_xlabel('Epochs')\n",
    "ax[0].set_title('Losses with 128 units and 3 layers')\n",
    "\n",
    "ax[1].plot(trainAcc,'ro-')\n",
    "ax[1].plot(testAcc,'bs-')\n",
    "ax[1].set_title('Accuracy with 128 units and 3 layers')\n",
    "ax[1].set_xlabel('Epochs')\n",
    "ax[1].set_ylabel('Accuracy (%)')\n",
    "ax[1].legend(['Train','Test'])\n",
    "ax[1].set_ylim([70,100])\n",
    "\n",
    "plt.show()"
   ]
  },
  {
   "cell_type": "code",
   "execution_count": 14,
   "id": "beb22c41-01bb-4113-bc45-fefc8b50921a",
   "metadata": {},
   "outputs": [
    {
     "name": "stdout",
     "output_type": "stream",
     "text": [
      "Training accuracy: 81.903076\n"
     ]
    }
   ],
   "source": [
    "print(\"Training accuracy: \" + str(trainAcc[299]))"
   ]
  },
  {
   "cell_type": "code",
   "execution_count": 15,
   "id": "0e4f94ac-6c31-49e2-9a12-1a003fb25680",
   "metadata": {},
   "outputs": [
    {
     "name": "stdout",
     "output_type": "stream",
     "text": [
      "Testing accuracy: tensor(81.4400)\n"
     ]
    }
   ],
   "source": [
    "print(\"Testing accuracy: \" + str(testAcc[299]))"
   ]
  },
  {
   "cell_type": "code",
   "execution_count": null,
   "id": "04d505ee-595c-416b-a248-b3cb63737a0d",
   "metadata": {},
   "outputs": [],
   "source": []
  }
 ],
 "metadata": {
  "kernelspec": {
   "display_name": "Python 3 (ipykernel)",
   "language": "python",
   "name": "python3"
  },
  "language_info": {
   "codemirror_mode": {
    "name": "ipython",
    "version": 3
   },
   "file_extension": ".py",
   "mimetype": "text/x-python",
   "name": "python",
   "nbconvert_exporter": "python",
   "pygments_lexer": "ipython3",
   "version": "3.13.2"
  }
 },
 "nbformat": 4,
 "nbformat_minor": 5
}
